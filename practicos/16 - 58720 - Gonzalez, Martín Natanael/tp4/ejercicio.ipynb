{
 "cells": [
  {
   "cell_type": "markdown",
   "metadata": {},
   "source": [
    "# Simulación del Truco"
   ]
  },
  {
   "cell_type": "markdown",
   "metadata": {},
   "source": [
    "Las **cartas** deben registra el numero, palo y valor de la carta. \n",
    "El valor debe reflejar la jerarquía de las cartas en el juego del truco."
   ]
  },
  {
   "cell_type": "code",
   "execution_count": 21,
   "metadata": {},
   "outputs": [],
   "source": [
    "def obtener_valor(carta):\n",
    "    jerarquia = {\n",
    "        (1, 'espada'): 14,\n",
    "        (1, 'basto'): 13,\n",
    "        (7, 'espada'): 12,\n",
    "        (7, 'oro'): 11\n",
    "    }\n",
    "    return jerarquia.get((carta[0], carta[1]), {3: 10, 2: 9, 1: 8, 12: 7, 11: 6, 10: 5, 7: 4, 6: 3, 5: 2, 4: 1}.get(carta[0], 0))\n",
    "\n",
    "class Carta:\n",
    "    def __init__(self, numero, palo):\n",
    "        self.numero = numero\n",
    "        self.palo = palo\n",
    "        self.valor = obtener_valor((numero, palo))\n",
    "\n",
    "    def __repr__(self):\n",
    "        return f\"{self.numero} de {self.palo} (valor: {self.valor})\""
   ]
  },
  {
   "cell_type": "markdown",
   "metadata": {},
   "source": [
    "**Mazo**: Representan las cartas españolas de 1 al 12, en los palos de oro, copa, espada y basto.\n",
    "\n",
    "Debe existir una función que permita barajar las cartas.\n",
    "y otra función que permita repartir las cartas a los jugadores."
   ]
  },
  {
   "cell_type": "code",
   "execution_count": 22,
   "metadata": {},
   "outputs": [],
   "source": [
    "import random\n",
    "class Mazo:\n",
    "    def __init__(self):\n",
    "        palos = ['oro', 'copa', 'espada', 'basto']\n",
    "        self.cartas = [Carta(num, palo) for num in range(1, 13) if num not in (8, 9) for palo in palos]\n",
    "        self.mezclar()\n",
    "\n",
    "    def mezclar(self):\n",
    "        random.shuffle(self.cartas)\n",
    "\n",
    "    def repartir(self, cantidad):\n",
    "        return [self.cartas.pop() for _ in range(min(cantidad, len(self.cartas)))]"
   ]
  },
  {
   "cell_type": "markdown",
   "metadata": {},
   "source": [
    "**Jugador**: Deben tener un nombre y las cartas que tiene en la mano. Debe acumular los puntos ganados.\n",
    "\n",
    "Nota: Para simplificar el problema, el jugador elige la carta a jugar de forma aleatoria."
   ]
  },
  {
   "cell_type": "code",
   "execution_count": 23,
   "metadata": {},
   "outputs": [],
   "source": [
    "class Jugador:\n",
    "    def __init__(self, nombre):\n",
    "        self.nombre = nombre\n",
    "        self.mano = []\n",
    "        self.puntos = 0\n",
    "\n",
    "    def recibir_cartas(self, cartas):\n",
    "        self.mano.extend(cartas)\n",
    "\n",
    "    def jugar_carta(self):\n",
    "        return self.mano.pop(random.randint(0, len(self.mano) - 1)) if self.mano else None\n",
    "\n"
   ]
  },
  {
   "cell_type": "markdown",
   "metadata": {},
   "source": [
    "**Partida**: Debe tener dos jugadores, un mazo de cartas y un puntaje. Debe permitir jugar una carta por ronda y definir el ganador de la ronda. Debe permitir jugar hasta que se terminen las cartas del mazo."
   ]
  },
  {
   "cell_type": "code",
   "execution_count": 24,
   "metadata": {},
   "outputs": [
    {
     "name": "stdout",
     "output_type": "stream",
     "text": [
      "Puntos: Juan: 0 - Pedro: 0\n",
      "Juan juega 11 de espada (valor: 6) - Pedro juega 7 de copa (valor: 4)\n",
      "Juan gana la ronda\n",
      "Puntos: Juan: 1 - Pedro: 0\n",
      "Juan juega 7 de basto (valor: 4) - Pedro juega 3 de espada (valor: 10)\n",
      "Pedro gana la ronda\n",
      "Puntos: Juan: 1 - Pedro: 1\n",
      "Juan juega 4 de oro (valor: 1) - Pedro juega 6 de copa (valor: 3)\n",
      "Pedro gana la ronda\n",
      "Puntos: Juan: 1 - Pedro: 2\n",
      "Juan juega 3 de oro (valor: 10) - Pedro juega 7 de oro (valor: 11)\n",
      "Pedro gana la ronda\n",
      "Puntos: Juan: 1 - Pedro: 3\n",
      "Juan juega 10 de copa (valor: 5) - Pedro juega 4 de espada (valor: 1)\n",
      "Juan gana la ronda\n",
      "Puntos: Juan: 2 - Pedro: 3\n",
      "Juan juega 12 de oro (valor: 7) - Pedro juega 5 de basto (valor: 2)\n",
      "Juan gana la ronda\n",
      "Puntos: Juan: 3 - Pedro: 3\n",
      "Juan juega 6 de basto (valor: 3) - Pedro juega 12 de basto (valor: 7)\n",
      "Pedro gana la ronda\n",
      "Puntos: Juan: 3 - Pedro: 4\n",
      "Juan juega 10 de espada (valor: 5) - Pedro juega 10 de basto (valor: 5)\n",
      "Empate en la ronda\n",
      "Puntos: Juan: 3 - Pedro: 4\n",
      "Juan juega 3 de basto (valor: 10) - Pedro juega 7 de espada (valor: 12)\n",
      "Pedro gana la ronda\n",
      "Puntos: Juan: 3 - Pedro: 5\n",
      "Juan juega 6 de espada (valor: 3) - Pedro juega 2 de oro (valor: 9)\n",
      "Pedro gana la ronda\n",
      "Puntos: Juan: 3 - Pedro: 6\n",
      "Juan juega 1 de espada (valor: 14) - Pedro juega 10 de oro (valor: 5)\n",
      "Juan gana la ronda\n",
      "Puntos: Juan: 4 - Pedro: 6\n",
      "Juan juega 1 de oro (valor: 8) - Pedro juega 12 de copa (valor: 7)\n",
      "Juan gana la ronda\n",
      "Puntos: Juan: 5 - Pedro: 6\n",
      "Juan juega 11 de copa (valor: 6) - Pedro juega 3 de copa (valor: 10)\n",
      "Pedro gana la ronda\n",
      "Puntos: Juan: 5 - Pedro: 7\n",
      "Juan juega 4 de copa (valor: 1) - Pedro juega 6 de oro (valor: 3)\n",
      "Pedro gana la ronda\n",
      "Puntos: Juan: 5 - Pedro: 8\n",
      "Juan juega 1 de basto (valor: 13) - Pedro juega 2 de espada (valor: 9)\n",
      "Juan gana la ronda\n",
      "Puntos: Juan: 6 - Pedro: 8\n",
      "Juan juega 5 de copa (valor: 2) - Pedro juega 11 de oro (valor: 6)\n",
      "Pedro gana la ronda\n",
      "Puntos: Juan: 6 - Pedro: 9\n",
      "Juan juega 12 de espada (valor: 7) - Pedro juega 11 de basto (valor: 6)\n",
      "Juan gana la ronda\n",
      "Puntos: Juan: 7 - Pedro: 9\n",
      "Juan juega 4 de basto (valor: 1) - Pedro juega 2 de basto (valor: 9)\n",
      "Pedro gana la ronda\n",
      "Puntos: Juan: 7 - Pedro: 10\n",
      "Juan juega 5 de oro (valor: 2) - Pedro juega 1 de copa (valor: 8)\n",
      "Pedro gana la ronda\n",
      "Puntos: Juan: 7 - Pedro: 11\n",
      "No hay cartas para jugar\n",
      "Puntos: Juan: 7 - Pedro: 11\n",
      "No hay cartas para jugar\n",
      "Puntos: Juan: 7 - Pedro: 11\n",
      "No quedan más cartas. Fin de la partida.\n",
      "Pedro gana la partida con 11 puntos!\n"
     ]
    }
   ],
   "source": [
    "class Partida:\n",
    "    def __init__(self, jugador1, jugador2):\n",
    "        self.j1, self.j2 = jugador1, jugador2\n",
    "        self.mazo = Mazo()\n",
    "\n",
    "    def jugar_ronda(self):\n",
    "        carta1, carta2 = self.j1.jugar_carta(), self.j2.jugar_carta()\n",
    "        if carta1 and carta2:\n",
    "            print(f\"{self.j1.nombre} juega {carta1} - {self.j2.nombre} juega {carta2}\")\n",
    "            if carta1.valor > carta2.valor:\n",
    "                print(f\"{self.j1.nombre} gana la ronda\")\n",
    "                self.j1.puntos += 1\n",
    "            elif carta2.valor > carta1.valor:\n",
    "                print(f\"{self.j2.nombre} gana la ronda\")\n",
    "                self.j2.puntos += 1\n",
    "            else:\n",
    "                print(\"Empate en la ronda\")\n",
    "        else:\n",
    "            print(\"No hay cartas para jugar\")\n",
    "\n",
    "    def jugar(self):\n",
    "        while self.j1.puntos < 15 and self.j2.puntos < 15:\n",
    "            print(f\"Puntos: {self.j1.nombre}: {self.j1.puntos} - {self.j2.nombre}: {self.j2.puntos}\")\n",
    "            if not self.j1.mano and not self.j2.mano:\n",
    "                if self.mazo.cartas:\n",
    "                    self.j1.recibir_cartas(self.mazo.repartir(3))\n",
    "                    self.j2.recibir_cartas(self.mazo.repartir(3))\n",
    "                else:\n",
    "                    print(\"No quedan más cartas. Fin de la partida.\")\n",
    "                    break\n",
    "            self.jugar_ronda()\n",
    "\n",
    "        if self.j1.puntos == self.j2.puntos:\n",
    "            print(f\"La partida termina en empate con {self.j1.puntos} puntos!\")\n",
    "        elif self.j1.puntos > self.j2.puntos:\n",
    "            print(f\"{self.j1.nombre} gana la partida con {self.j1.puntos} puntos!\")\n",
    "        else:\n",
    "            print(f\"{self.j2.nombre} gana la partida con {self.j2.puntos} puntos!\")\n",
    "\n",
    "partida = Partida(Jugador(\"Juan\"), Jugador(\"Pedro\"))\n",
    "partida.jugar()"
   ]
  }
 ],
 "metadata": {
  "kernelspec": {
   "display_name": "Python 3",
   "language": "python",
   "name": "python3"
  },
  "language_info": {
   "codemirror_mode": {
    "name": "ipython",
    "version": 3
   },
   "file_extension": ".py",
   "mimetype": "text/x-python",
   "name": "python",
   "nbconvert_exporter": "python",
   "pygments_lexer": "ipython3",
   "version": "3.12.6"
  }
 },
 "nbformat": 4,
 "nbformat_minor": 2
}
